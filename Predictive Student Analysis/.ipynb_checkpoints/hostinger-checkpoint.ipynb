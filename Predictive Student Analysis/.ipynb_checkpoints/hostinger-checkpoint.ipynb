{
 "cells": [
  {
   "cell_type": "code",
   "execution_count": 88,
   "metadata": {},
   "outputs": [],
   "source": [
    "import MySQLdb\n",
    "\n",
    "db =MySQLdb.connect(host='sql164.main-hosting.eu', user='u119526268_root', password='qwerty1234', database='u119526268_db')\n",
    "# cursor = mariadb_connection.cursor()"
   ]
  },
  {
   "cell_type": "code",
   "execution_count": 77,
   "metadata": {},
   "outputs": [
    {
     "name": "stdout",
     "output_type": "stream",
     "text": [
      "(1, 'AAKASH GIRI GOSWAMI', 'ANAND GIRI GOSWAMI', '1502740001', '1521028', 'ME', '2015-19', 'ME-1', '6', '08-02-1996', 'OBC', 'YES', 'UPSEE', '9721319652', '9839693204', 'G-04/B,SAMARPAN VIHAR  GEORGE TOWN  ALLAHABAD-211002 UP..', 'aakashgiri08@gmail.com', '58.9', '58', '57.36', '55.2', '88.25', '59.99', '78.12', '58', '75.48', '57.7', '76.76', '55.9', '74.74', '', '69.46', '', '', '', '', 'A', 'A', 'A', 'A', 'A', 'A', 'B', 'A', 'A', 'A', 'B', 'C', 'B', 'C', 'A', 'A', 'B', 'C', 'C', 'A', 'C', 'B', 'B', 'B', 'C', 'B', 'B', 'B', '$2y$10$.HhfSo7OGhcGCcv3HUtJGuSv7xKUiHfeV55xbKBAlZjus/prwcXEe', 'os63Jz7PRWeF5IghWOqx2KeG8mcsDkaWxKheUrgs9Mpdq11EX9K17OULf4tJ', datetime.datetime(2018, 3, 28, 8, 32, 48), datetime.datetime(2018, 3, 28, 8, 32, 48))\n"
     ]
    }
   ],
   "source": [
    "db =MySQLdb.connect(host='sql164.main-hosting.eu', user='u119526268_root', password='qwerty1234', database='u119526268_db')\n",
    "cursor = db.cursor()\n",
    "sql = \"SELECT * FROM students\"\n",
    "try:\n",
    "   # Execute the SQL command\n",
    "    cursor.execute(sql)\n",
    "   # Fetch all the rows in a list of lists.\n",
    "    results = cursor.fetchall()\n",
    "    for row in results:\n",
    "        print(row)\n",
    "        break\n",
    "except:\n",
    "    print('error')\n",
    "db.close"
   ]
  },
  {
   "cell_type": "code",
   "execution_count": 43,
   "metadata": {},
   "outputs": [
    {
     "data": {
      "text/plain": [
       "<function Connection.close>"
      ]
     },
     "execution_count": 43,
     "metadata": {},
     "output_type": "execute_result"
    }
   ],
   "source": [
    "# db =MySQLdb.connect(host='sql164.main-hosting.eu', user='u119526268_root', password='qwerty1234', database='u119526268_db')\n",
    "# cur = db.cursor()\n",
    "# cur.execute('DROP TABLE students;')\n",
    "\n",
    "# CREATING TABLE\n",
    "# cur.execute('''CREATE TABLE students\n",
    "#       (id  INT PRIMARY KEY,\n",
    "#        Name  TEXT,\n",
    "#        Father              TEXT,\n",
    "#        roll_no         TEXT     NOT NULL,\n",
    "#        student_no      TEXT     NOT NULL,\n",
    "#        branch              TEXT,\n",
    "#        year                TEXT,\n",
    "#        section             TEXT,\n",
    "#        current_sem     TEXT ,\n",
    "#        DOB           TEXT,\n",
    "#        category      TEXT,\n",
    "#        hostler       TEXT,\n",
    "#        Addmission_mod      TEXT,\n",
    "#        contact TEXT  ,\n",
    "#        contact_parent TEXT    ,\n",
    "#        address     TEXT,\n",
    "#        email       TEXT,\n",
    "#        high_school  TEXT,\n",
    "#        intermediate   TEXT,\n",
    "#        B_tech TEXT,\n",
    "#        sem_1_marks   TEXT,\n",
    "#        sem_1_attendance   TEXT,\n",
    "#        sem_2_marks   TEXT,\n",
    "#        sem_2_attendance   TEXT,\n",
    "#        sem_3_marks   TEXT,\n",
    "#        sem_3_attendance   TEXT,\n",
    "#        sem_4_marks   TEXT,\n",
    "#        sem_4_attendance   TEXT,\n",
    "#        sem_5_marks   TEXT,\n",
    "#        sem_5_attendance   TEXT,\n",
    "#        sem_6_marks   TEXT,\n",
    "#        sem_6_attendance   TEXT,\n",
    "#        sem_7_marks   TEXT,\n",
    "#        sem_7_attendance   TEXT,\n",
    "#        sem_8_marks   TEXT,\n",
    "#        sem_8_attendance   TEXT,\n",
    "#        ques_S_drop_1  TEXT,\n",
    "#        ques_S_drop_2  TEXT,\n",
    "#        ques_S_drop_3  TEXT,\n",
    "#        ques_S_drop_4  TEXT,\n",
    "#        ques_S_drop_5  TEXT,\n",
    "#        ques_S_drop_6  TEXT,\n",
    "#        ques_S_drop_7  TEXT,\n",
    "#        ques_S_drop_8  TEXT,\n",
    "#        ques_S_drop_9  TEXT,\n",
    "#        ques_S_drop_10  TEXT,\n",
    "#        ques_S_per1  TEXT,\n",
    "#        ques_S_per2  TEXT,\n",
    "#        ques_S_per3  TEXT,\n",
    "#        ques_S_per4  TEXT,\n",
    "#        ques_S_per5  TEXT,\n",
    "#        ques_S_per6  TEXT,\n",
    "#        ques_S_per7  TEXT,\n",
    "#        ques_S_per8  TEXT,\n",
    "#        ques_S_per9  TEXT,\n",
    "#        ques_S_per10  TEXT,\n",
    "#        ques_T_feed_1  TEXT,\n",
    "#        ques_T_feed_2  TEXT,\n",
    "#        ques_T_feed_3  TEXT,\n",
    "#        ques_T_feed_4  TEXT,\n",
    "#        ques_T_feed_5  TEXT,\n",
    "#        ques_T_feed_6  TEXT,\n",
    "#        ques_T_feed_7  TEXT,\n",
    "#        ques_T_feed_8  TEXT,\n",
    "#        password TEXT,\n",
    "#        remember_token TEXT,\n",
    "#        created_at TIMESTAMP,\n",
    "#        updated_at TIMESTAMP\n",
    "#        );''')\n",
    "\n",
    "# db.close"
   ]
  },
  {
   "cell_type": "code",
   "execution_count": 87,
   "metadata": {},
   "outputs": [
    {
     "name": "stdout",
     "output_type": "stream",
     "text": [
      "63\n",
      "'Name', 'Father', 'roll_no', 'student_no', 'branch', 'year', 'section', 'current_sem', 'DOB', 'category', 'hostler', 'Addmission_mod', 'contact', 'parent_contact', 'address', 'email', 'high_school', 'intermediate', 'B_tech', 'sem_1_marks', 'sem_1_attendance', 'sem_2_marks', 'sem_2_attendance', 'sem_3_marks', 'sem_3_attendance', 'sem_4_marks', 'sem_4_attendance', 'sem_5_marks', 'sem_5_attendance', 'sem_6_marks', 'sem_6_attendance', 'sem_7_marks', 'sem_7_attendance', 'sem_8_marks', 'sem_8_attendance', 'ques_S_drop_1', 'ques_S_drop_2', 'ques_S_drop_3', 'ques_S_drop_4', 'ques_S_drop_5', 'ques_S_drop_6', 'ques_S_drop_7', 'ques_S_drop_8', 'ques_S_drop_9', 'ques_S_drop_10', 'ques_S_per1', 'ques_S_per2', 'ques_S_per3', 'ques_S_per4', 'ques_S_per5', 'ques_S_per6', 'ques_S_per7', 'ques_S_per8', 'ques_S_per9', 'ques_S_per10', 'ques_T_feed_1', 'ques_T_feed_2', 'ques_T_feed_3', 'ques_T_feed_4', 'ques_T_feed_5', 'ques_T_feed_6', 'ques_T_feed_7', 'ques_T_feed_8', "
     ]
    },
    {
     "data": {
      "text/plain": [
       "<function TextIOWrapper.close>"
      ]
     },
     "execution_count": 87,
     "metadata": {},
     "output_type": "execute_result"
    }
   ],
   "source": [
    "# INSSERT FUNCTION\n",
    "# db =MySQLdb.connect(host='sql164.main-hosting.eu', user='u119526268_root', password='qwerty1234', database='u119526268_db')\n",
    "# cur = db.cursor()\n",
    "# import csv\n",
    "# ifile=open('predictive_student_ananalysis/clean_data/clean_3.csv','r',newline='')\n",
    "# reader=csv.reader(ifile)\n",
    "# reader.__next__()\n",
    "\n",
    "# i=1\n",
    "# for row in reader:\n",
    "   \n",
    "#     insert=[]\n",
    "#     insert.append(i)\n",
    "#     insert+=row\n",
    "#     insert.append('$2y$10$.HhfSo7OGhcGCcv3HUtJGuSv7xKUiHfeV55xbKBAlZjus/prwcXEe')\n",
    "#     insert.append('os63Jz7PRWeF5IghWOqx2KeG8mcsDkaWxKheUrgs9Mpdq11EX9K17OULf4tJ')\n",
    "#     insert.append('2018-03-28 08:32:48')\n",
    "#     insert.append('2018-03-28 08:32:48')\n",
    "#     i+=1\n",
    "    \n",
    "#     query_string = 'INSERT INTO students VALUES (%s);' % insert\n",
    "#     command_string = query_string.replace('[', '').replace(']', '')\n",
    "#     cur.execute(command_string)\n",
    "# #     break\n",
    "    \n",
    "# db.commit()    \n",
    "# ifile.close\n",
    "# db.close"
   ]
  },
  {
   "cell_type": "code",
   "execution_count": 89,
   "metadata": {},
   "outputs": [
    {
     "data": {
      "text/plain": [
       "<function Connection.close>"
      ]
     },
     "execution_count": 89,
     "metadata": {},
     "output_type": "execute_result"
    }
   ],
   "source": [
    "# Reading\n",
    "import csv\n",
    "db =MySQLdb.connect(host='sql164.main-hosting.eu', user='u119526268_root', password='qwerty1234', database='u119526268_db')\n",
    "cur = db.cursor()\n",
    "try:\n",
    "    cur.execute(\"SELECT *  from students\")\n",
    "    rows = cur.fetchall()\n",
    "except:\n",
    "    print('error')\n",
    "    \n",
    "ofile=open('predictive_student_ananalysis/fetched_data/fetched_student_data.csv','w',newline='')\n",
    "writer=csv.writer(ofile)\n",
    "writer.writerow(['Name','Father','roll_no','student_no','branch','year','section','current_sem','DOB','category','hostler','Addmission_mod','contact','parent_contact','address','email','high_school','intermediate','B_tech','sem_1_marks','sem_1_attendance','sem_2_marks','sem_2_attendance','sem_3_marks','sem_3_attendance','sem_4_marks','sem_4_attendance','sem_5_marks','sem_5_attendance','sem_6_marks','sem_6_attendance','sem_7_marks','sem_7_attendance','sem_8_marks','sem_8_attendance','ques_S_drop_1','ques_S_drop_2','ques_S_drop_3','ques_S_drop_4','ques_S_drop_5','ques_S_drop_6','ques_S_drop_7','ques_S_drop_8','ques_S_drop_9','ques_S_drop_10','ques_S_per1','ques_S_per2','ques_S_per3','ques_S_per4','ques_S_per5','ques_S_per6','ques_S_per7','ques_S_per8','ques_S_per9','ques_S_per10','ques_T_feed_1','ques_T_feed_2','ques_T_feed_3','ques_T_feed_4','ques_T_feed_5','ques_T_feed_6','ques_T_feed_7','ques_T_feed_8'])\n",
    "for row in rows:\n",
    "    writer.writerow(list(row)[1:64])\n",
    "\n",
    "ofile.close\n",
    "db.close\n"
   ]
  },
  {
   "cell_type": "code",
   "execution_count": 9,
   "metadata": {},
   "outputs": [
    {
     "ename": "FileNotFoundError",
     "evalue": "[Errno 2] No such file or directory: 'dropout_prediction_model_random_forest'",
     "output_type": "error",
     "traceback": [
      "\u001b[1;31m---------------------------------------------------------------------------\u001b[0m",
      "\u001b[1;31mFileNotFoundError\u001b[0m                         Traceback (most recent call last)",
      "\u001b[1;32m<ipython-input-9-101d3c5935d0>\u001b[0m in \u001b[0;36m<module>\u001b[1;34m()\u001b[0m\n\u001b[0;32m      1\u001b[0m \u001b[1;32mimport\u001b[0m \u001b[0mnbimporter\u001b[0m\u001b[1;33m\u001b[0m\u001b[0m\n\u001b[0;32m      2\u001b[0m \u001b[1;32mfrom\u001b[0m \u001b[0mpredictive_student_ananalysis\u001b[0m\u001b[1;33m.\u001b[0m\u001b[0mfinal_prediction_function\u001b[0m \u001b[1;32mimport\u001b[0m \u001b[0msih_prediction\u001b[0m\u001b[1;33m\u001b[0m\u001b[0m\n\u001b[1;32m----> 3\u001b[1;33m \u001b[0msih_prediction\u001b[0m\u001b[1;33m(\u001b[0m\u001b[1;34m'predictive_student_ananalysis/fetched_data/fetched_student_data.csv'\u001b[0m\u001b[1;33m)\u001b[0m\u001b[1;33m\u001b[0m\u001b[0m\n\u001b[0m",
      "\u001b[1;32m~\\Desktop\\SIH\\predictive_student_ananalysis\\final_prediction_function.ipynb\u001b[0m in \u001b[0;36msih_prediction\u001b[1;34m(file_location)\u001b[0m\n\u001b[0;32m     22\u001b[0m     \u001b[1;34m\"           'ques_T_feed_4', 'ques_T_feed_5', 'ques_T_feed_6', 'ques_T_feed_7',\\n\"\u001b[0m\u001b[1;33m,\u001b[0m\u001b[1;33m\u001b[0m\u001b[0m\n\u001b[0;32m     23\u001b[0m     \u001b[1;34m\"           'ques_T_feed_8']]\\n\"\u001b[0m\u001b[1;33m,\u001b[0m\u001b[1;33m\u001b[0m\u001b[0m\n\u001b[1;32m---> 24\u001b[1;33m     \u001b[1;34m\"    student=pd.get_dummies(student,columns=['branch','category', 'hostler', 'Addmission_mod','ques_S_drop_1', 'ques_S_drop_2', 'ques_S_drop_3',\\n\"\u001b[0m\u001b[1;33m,\u001b[0m\u001b[1;33m\u001b[0m\u001b[0m\n\u001b[0m\u001b[0;32m     25\u001b[0m     \u001b[1;34m\"           'ques_S_drop_4', 'ques_S_drop_5', 'ques_S_drop_6', 'ques_S_drop_7',\\n\"\u001b[0m\u001b[1;33m,\u001b[0m\u001b[1;33m\u001b[0m\u001b[0m\n\u001b[0;32m     26\u001b[0m     \u001b[1;34m\"           'ques_S_drop_8', 'ques_S_drop_9', 'ques_S_drop_10', 'ques_S_per1',\\n\"\u001b[0m\u001b[1;33m,\u001b[0m\u001b[1;33m\u001b[0m\u001b[0m\n",
      "\u001b[1;31mFileNotFoundError\u001b[0m: [Errno 2] No such file or directory: 'dropout_prediction_model_random_forest'"
     ]
    }
   ],
   "source": [
    "import nbimporter\n",
    "from predictive_student_ananalysis.final_prediction_function import sih_prediction\n",
    "sih_prediction('predictive_student_ananalysis/fetched_data/fetched_student_data.csv')"
   ]
  },
  {
   "cell_type": "code",
   "execution_count": 92,
   "metadata": {},
   "outputs": [
    {
     "data": {
      "text/plain": [
       "<function Connection.close>"
      ]
     },
     "execution_count": 92,
     "metadata": {},
     "output_type": "execute_result"
    }
   ],
   "source": [
    "#INSERTING THE PREDICTION\n",
    "import csv\n",
    "db =MySQLdb.connect(host='sql164.main-hosting.eu', user='u119526268_root', password='qwerty1234', database='u119526268_db')\n",
    "cur= db.cursor()\n",
    "try:\n",
    "    cur.execute(\"DROP TABLE predictions;\")\n",
    "    db.commit()\n",
    "except:\n",
    "    pass\n",
    "\n",
    "cur.execute('''CREATE TABLE predictions(\n",
    "id INT PRIMARY KEY,\n",
    "name TEXT,\n",
    "student_no TEXT,\n",
    "branch TEXT,\n",
    "predicted_marks TEXT,\n",
    "predicted_drop TEXT,\n",
    "personality TEXT,\n",
    "recommended_course_1 TEXT,\n",
    "recommended_course_2 TEXT,\n",
    "recommended_course_3 TEXT,\n",
    "recommended_course_4 TEXT,\n",
    "recommended_course_5 TEXT\n",
    ")''')\n",
    "db.commit()\n",
    "\n",
    "ifile=open('predictive_student_ananalysis/fetched_data/fetched_prediction.csv','r')\n",
    "reader=csv.reader(ifile)\n",
    "reader.__next__()\n",
    "i=1\n",
    "for row in reader:\n",
    "    row.insert(0,i)\n",
    "    query_string = 'INSERT INTO predictions VALUES (%s);' % row\n",
    "    command_string = query_string.replace('[', '').replace(']', '')\n",
    "    cur.execute(command_string)\n",
    "    i+=1\n",
    "db.commit()\n",
    "ifile.close\n",
    "db.close\n"
   ]
  },
  {
   "cell_type": "code",
   "execution_count": null,
   "metadata": {},
   "outputs": [],
   "source": []
  }
 ],
 "metadata": {
  "kernelspec": {
   "display_name": "Python 3",
   "language": "python",
   "name": "python3"
  },
  "language_info": {
   "codemirror_mode": {
    "name": "ipython",
    "version": 3
   },
   "file_extension": ".py",
   "mimetype": "text/x-python",
   "name": "python",
   "nbconvert_exporter": "python",
   "pygments_lexer": "ipython3",
   "version": "3.6.4"
  }
 },
 "nbformat": 4,
 "nbformat_minor": 2
}
