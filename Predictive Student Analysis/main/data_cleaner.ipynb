{
 "cells": [
  {
   "cell_type": "code",
   "execution_count": 9,
   "metadata": {},
   "outputs": [],
   "source": [
    "import pandas as pd\n",
    "file=pd.read_csv('final_data_3.csv')"
   ]
  },
  {
   "cell_type": "code",
   "execution_count": 10,
   "metadata": {},
   "outputs": [
    {
     "name": "stderr",
     "output_type": "stream",
     "text": [
      "C:\\Users\\acer\\Anaconda3\\lib\\site-packages\\ipykernel_launcher.py:4: SettingWithCopyWarning: \n",
      "A value is trying to be set on a copy of a slice from a DataFrame\n",
      "\n",
      "See the caveats in the documentation: http://pandas.pydata.org/pandas-docs/stable/indexing.html#indexing-view-versus-copy\n",
      "  after removing the cwd from sys.path.\n"
     ]
    },
    {
     "data": {
      "text/plain": [
       "count       635\n",
       "unique        2\n",
       "top       UPSEE\n",
       "freq        430\n",
       "Name: Addmission_mod, dtype: object"
      ]
     },
     "execution_count": 10,
     "metadata": {},
     "output_type": "execute_result"
    }
   ],
   "source": [
    "boolean=file.Addmission_mod.str.isalpha()\n",
    "file.Addmission_mod=file.Addmission_mod.str.upper()\n",
    "# print(list(file.Addmission_mod))\n",
    "file.Addmission_mod[file.Addmission_mod !='DIRECT']='UPSEE'\n",
    "file.Addmission_mod.describe()\n"
   ]
  },
  {
   "cell_type": "code",
   "execution_count": 11,
   "metadata": {},
   "outputs": [],
   "source": [
    "file.dropna(subset = ['category', 'hostler', 'high_school', 'intermediate', 'B_tech',\n",
    "       'sem_1_marks', 'sem_1_attendance', 'sem_2_marks', 'sem_2_attendance', 'sem_3_attendance','Addmission_mod','sem_3_marks','sem_4_marks','sem_4_attendance','sem_5_attendance'],inplace=True)"
   ]
  },
  {
   "cell_type": "code",
   "execution_count": 12,
   "metadata": {},
   "outputs": [
    {
     "data": {
      "text/plain": [
       "count     396\n",
       "unique      4\n",
       "top       CSE\n",
       "freq      144\n",
       "Name: branch, dtype: object"
      ]
     },
     "execution_count": 12,
     "metadata": {},
     "output_type": "execute_result"
    }
   ],
   "source": [
    "file.dtypes\n",
    "file=file[file.branch!='CE']\n",
    "file=file[file.branch!='EN']\n",
    "#file.drop(file.index[[55,55]], inplace=True)\n",
    "file[file.columns[16:35]]=file[file.columns[16:35]].astype(float)\n",
    "file.branch.describe()"
   ]
  },
  {
   "cell_type": "code",
   "execution_count": 13,
   "metadata": {},
   "outputs": [],
   "source": [
    "file.to_csv('clean_3.csv', sep=',',index=False)"
   ]
  },
  {
   "cell_type": "code",
   "execution_count": null,
   "metadata": {},
   "outputs": [],
   "source": []
  }
 ],
 "metadata": {
  "kernelspec": {
   "display_name": "Python 3",
   "language": "python",
   "name": "python3"
  },
  "language_info": {
   "codemirror_mode": {
    "name": "ipython",
    "version": 3
   },
   "file_extension": ".py",
   "mimetype": "text/x-python",
   "name": "python",
   "nbconvert_exporter": "python",
   "pygments_lexer": "ipython3",
   "version": "3.6.4"
  }
 },
 "nbformat": 4,
 "nbformat_minor": 2
}
