{
 "cells": [
  {
   "cell_type": "code",
   "execution_count": 7,
   "metadata": {},
   "outputs": [],
   "source": [
    "import random\n",
    "import csv\n",
    "import pandas as pd\n",
    "# cook your dish here\n",
    "def personality_function(response,key):\n",
    "    per={'E':0,'I':0,'S':0,'N':0,'F':0,'T':0,'J':0,'P':0}\n",
    "    for i,j in zip(response,key):\n",
    "        if i=='A':\n",
    "            per[j]+=1\n",
    "        elif i== 'C':\n",
    "            per[j]-=1\n",
    "        else:\n",
    "            pass\n",
    "    types=[]\n",
    "#     personality test logic\n",
    "    if per['E']>per['I']:\n",
    "        types.append('E')\n",
    "    else:\n",
    "        types.append('I')\n",
    "    if per['S']>per['N']:\n",
    "        types.append('S')\n",
    "    else:\n",
    "        types.append('N')\n",
    "    if per['F']>per['T']:\n",
    "        types.append('F')\n",
    "    else:\n",
    "        types.append('T')\n",
    "    if per['J']>per['P']:\n",
    "        types.append('J')\n",
    "    else:\n",
    "        types.append('P')\n",
    "\n",
    "    return ''.join(types)\n",
    "\n",
    "def personality_predict_func(data):\n",
    "#     reading input file\n",
    "    ifile=open(data,'r',newline='')\n",
    "#     output file\n",
    "    ofile=open('personality_prediction.csv','w',newline='')\n",
    "    writer=csv.writer(ofile)\n",
    "    writer.writerow(['personality_type'])\n",
    "    reader = csv.reader(ifile)\n",
    "    reader.__next__()\n",
    "\n",
    "    key=['E','E','J','F','J','F','J','F','N','S'] #schema for personality test\n",
    "\n",
    "    for row in reader:\n",
    "        writer.writerow([personality_function(row[45:54],key)]) #extraction specific features from input file\n",
    "    ifile.close()\n",
    "    ofile.close()\n",
    "\n",
    "    return pd.read_csv('personality_prediction.csv')    \n",
    "\n"
   ]
  },
  {
   "cell_type": "code",
   "execution_count": 8,
   "metadata": {},
   "outputs": [
    {
     "ename": "FileNotFoundError",
     "evalue": "[Errno 2] No such file or directory: 'sdds'",
     "output_type": "error",
     "traceback": [
      "\u001b[1;31m---------------------------------------------------------------------------\u001b[0m",
      "\u001b[1;31mFileNotFoundError\u001b[0m                         Traceback (most recent call last)",
      "\u001b[1;32m<ipython-input-8-07a0f900d7d7>\u001b[0m in \u001b[0;36m<module>\u001b[1;34m()\u001b[0m\n\u001b[1;32m----> 1\u001b[1;33m \u001b[0mpersonality_predict_func\u001b[0m\u001b[1;33m(\u001b[0m\u001b[1;34m'sdds'\u001b[0m\u001b[1;33m)\u001b[0m\u001b[1;33m\u001b[0m\u001b[0m\n\u001b[0m",
      "\u001b[1;32m<ipython-input-7-ad6f1e79ab60>\u001b[0m in \u001b[0;36mpersonality_predict_func\u001b[1;34m(data)\u001b[0m\n\u001b[0;32m     33\u001b[0m \u001b[1;33m\u001b[0m\u001b[0m\n\u001b[0;32m     34\u001b[0m \u001b[1;32mdef\u001b[0m \u001b[0mpersonality_predict_func\u001b[0m\u001b[1;33m(\u001b[0m\u001b[0mdata\u001b[0m\u001b[1;33m)\u001b[0m\u001b[1;33m:\u001b[0m\u001b[1;33m\u001b[0m\u001b[0m\n\u001b[1;32m---> 35\u001b[1;33m     \u001b[0mifile\u001b[0m\u001b[1;33m=\u001b[0m\u001b[0mopen\u001b[0m\u001b[1;33m(\u001b[0m\u001b[0mdata\u001b[0m\u001b[1;33m,\u001b[0m\u001b[1;34m'r'\u001b[0m\u001b[1;33m,\u001b[0m\u001b[0mnewline\u001b[0m\u001b[1;33m=\u001b[0m\u001b[1;34m''\u001b[0m\u001b[1;33m)\u001b[0m\u001b[1;33m\u001b[0m\u001b[0m\n\u001b[0m\u001b[0;32m     36\u001b[0m     \u001b[0mofile\u001b[0m\u001b[1;33m=\u001b[0m\u001b[0mopen\u001b[0m\u001b[1;33m(\u001b[0m\u001b[1;34m'personality_prediction.csv'\u001b[0m\u001b[1;33m,\u001b[0m\u001b[1;34m'w'\u001b[0m\u001b[1;33m,\u001b[0m\u001b[0mnewline\u001b[0m\u001b[1;33m=\u001b[0m\u001b[1;34m''\u001b[0m\u001b[1;33m)\u001b[0m\u001b[1;33m\u001b[0m\u001b[0m\n\u001b[0;32m     37\u001b[0m     \u001b[0mwriter\u001b[0m\u001b[1;33m=\u001b[0m\u001b[0mcsv\u001b[0m\u001b[1;33m.\u001b[0m\u001b[0mwriter\u001b[0m\u001b[1;33m(\u001b[0m\u001b[0mofile\u001b[0m\u001b[1;33m)\u001b[0m\u001b[1;33m\u001b[0m\u001b[0m\n",
      "\u001b[1;31mFileNotFoundError\u001b[0m: [Errno 2] No such file or directory: 'sdds'"
     ]
    }
   ],
   "source": []
  },
  {
   "cell_type": "code",
   "execution_count": null,
   "metadata": {},
   "outputs": [],
   "source": []
  }
 ],
 "metadata": {
  "kernelspec": {
   "display_name": "Python 3",
   "language": "python",
   "name": "python3"
  },
  "language_info": {
   "codemirror_mode": {
    "name": "ipython",
    "version": 3
   },
   "file_extension": ".py",
   "mimetype": "text/x-python",
   "name": "python",
   "nbconvert_exporter": "python",
   "pygments_lexer": "ipython3",
   "version": "3.6.4"
  }
 },
 "nbformat": 4,
 "nbformat_minor": 2
}
