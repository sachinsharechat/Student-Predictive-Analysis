{
 "cells": [
  {
   "cell_type": "code",
   "execution_count": 1,
   "metadata": {},
   "outputs": [],
   "source": [
    "import pandas as pd\n"
   ]
  },
  {
   "cell_type": "code",
   "execution_count": 4,
   "metadata": {},
   "outputs": [],
   "source": [
    "fields=['Name','category','hostler','10th%','12th%','B_tech%','sem_1_marks', 'sem_1_attendance', 'sem_2_marks',\n",
    "       'sem_2_attendance', 'sem_3_marks', 'sem_3_attendance', 'sem_4_marks',\n",
    "       'sem_4_attendance', 'sem_5_marks', 'sem_5_attendance', 'sem_6_marks',\n",
    "       'sem_6_attendance', 'sem_7_marks', 'sem_7_attendance']\n",
    "new=pd.read_csv('student_data_cs_4.csv',skipinitialspace=True, usecols=fields)"
   ]
  },
  {
   "cell_type": "code",
   "execution_count": 5,
   "metadata": {},
   "outputs": [
    {
     "data": {
      "text/plain": [
       "Index(['Name', 'category', 'hostler', '10th%', '12th%', 'B_tech%',\n",
       "       'sem_1_marks', 'sem_1_attendance', 'sem_2_marks', 'sem_2_attendance',\n",
       "       'sem_3_marks', 'sem_3_attendance', 'sem_4_marks', 'sem_4_attendance',\n",
       "       'sem_5_marks', 'sem_5_attendance', 'sem_6_marks', 'sem_6_attendance',\n",
       "       'sem_7_marks', 'sem_7_attendance'],\n",
       "      dtype='object')"
      ]
     },
     "execution_count": 5,
     "metadata": {},
     "output_type": "execute_result"
    }
   ],
   "source": [
    "new.columns"
   ]
  },
  {
   "cell_type": "code",
   "execution_count": 14,
   "metadata": {},
   "outputs": [
    {
     "ename": "ValueError",
     "evalue": "could not convert string to float: '#VALUE!'",
     "output_type": "error",
     "traceback": [
      "\u001b[1;31m---------------------------------------------------------------------------\u001b[0m",
      "\u001b[1;31mValueError\u001b[0m                                Traceback (most recent call last)",
      "\u001b[1;32m<ipython-input-14-46c68649a00b>\u001b[0m in \u001b[0;36m<module>\u001b[1;34m()\u001b[0m\n\u001b[0;32m      3\u001b[0m \u001b[1;31m# new.sem_6_marks=new.sem_6_marks.apply(myfunction)\u001b[0m\u001b[1;33m\u001b[0m\u001b[1;33m\u001b[0m\u001b[0m\n\u001b[0;32m      4\u001b[0m \u001b[1;32mfor\u001b[0m \u001b[0mi\u001b[0m \u001b[1;32min\u001b[0m \u001b[0mnew\u001b[0m\u001b[1;33m.\u001b[0m\u001b[0msem_6_marks\u001b[0m\u001b[1;33m:\u001b[0m\u001b[1;33m\u001b[0m\u001b[0m\n\u001b[1;32m----> 5\u001b[1;33m     \u001b[0mi\u001b[0m\u001b[1;33m=\u001b[0m\u001b[0mfloat\u001b[0m\u001b[1;33m(\u001b[0m\u001b[0mi\u001b[0m\u001b[1;33m)\u001b[0m\u001b[1;33m\u001b[0m\u001b[0m\n\u001b[0m",
      "\u001b[1;31mValueError\u001b[0m: could not convert string to float: '#VALUE!'"
     ]
    }
   ],
   "source": [
    "# def myfunction(string):\n",
    "#     return float(string)\n",
    "# new.sem_6_marks=new.sem_6_marks.apply(myfunction)\n",
    "for i in new.sem_6_marks:\n",
    "    try:\n",
    "        i=float(i)\n",
    "    except:\n",
    "        i=0\n",
    "        "
   ]
  },
  {
   "cell_type": "code",
   "execution_count": null,
   "metadata": {},
   "outputs": [],
   "source": []
  }
 ],
 "metadata": {
  "kernelspec": {
   "display_name": "Python 3",
   "language": "python",
   "name": "python3"
  },
  "language_info": {
   "codemirror_mode": {
    "name": "ipython",
    "version": 3
   },
   "file_extension": ".py",
   "mimetype": "text/x-python",
   "name": "python",
   "nbconvert_exporter": "python",
   "pygments_lexer": "ipython3",
   "version": "3.6.4"
  }
 },
 "nbformat": 4,
 "nbformat_minor": 2
}
