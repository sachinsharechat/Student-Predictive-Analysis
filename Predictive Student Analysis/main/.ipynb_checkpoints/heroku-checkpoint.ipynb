{
 "cells": [
  {
   "cell_type": "code",
   "execution_count": 1,
   "metadata": {},
   "outputs": [],
   "source": [
    "import psycopg2\n",
    "conn = psycopg2.connect(database=\"d83g56aqpjchn0\", user = \"qbhdxfiwqxlpmc\", password = \"dbf6ce98ae91a7959ed349b2c50ab22a8724768ff1984bfa9fe77dd85a1579a7\", host = \"ec2-54-243-28-109.compute-1.amazonaws.com\", port = \"5432\")\n"
   ]
  },
  {
   "cell_type": "code",
   "execution_count": 28,
   "metadata": {},
   "outputs": [],
   "source": [
    "cur = conn.cursor()\n",
    "cur.execute(\"DROP TABLE students;\")\n",
    "conn.commit()\n",
    "# conn.close\n"
   ]
  },
  {
   "cell_type": "code",
   "execution_count": null,
   "metadata": {},
   "outputs": [],
   "source": []
  },
  {
   "cell_type": "code",
   "execution_count": 6,
   "metadata": {},
   "outputs": [
    {
     "name": "stdout",
     "output_type": "stream",
     "text": [
      "[('migrations',), ('users',), ('password_resets',), ('student_password_resets',), ('teachers',), ('teacher_password_resets',), ('company',), ('students',), ('prediction',), ('student__questions',), ('teacher_questions',)]\n"
     ]
    }
   ],
   "source": [
    "# conn = psycopg2.connect(database=\"d83g56aqpjchn0\", user = \"qbhdxfiwqxlpmc\", password = \"dbf6ce98ae91a7959ed349b2c50ab22a8724768ff1984bfa9fe77dd85a1579a7\", host = \"ec2-54-243-28-109.compute-1.amazonaws.com\", port = \"5432\")\n",
    "cursor = conn.cursor()\n",
    "cursor.execute(\"select relname from pg_class where relkind='r' and relname !~ '^(pg_|sql_)';\")\n",
    "print(cursor.fetchall())"
   ]
  },
  {
   "cell_type": "code",
   "execution_count": 30,
   "metadata": {},
   "outputs": [],
   "source": [
    "# cur = conn.cursor()\n",
    "# cur.execute('''CREATE TABLE students\n",
    "#       (Name  TEXT,\n",
    "#        Father              TEXT,\n",
    "#        roll_no         TEXT     NOT NULL,\n",
    "#        student_no      TEXT     NOT NULL,\n",
    "#        branch              TEXT,\n",
    "#        year                TEXT,\n",
    "#        section             TEXT,\n",
    "#        current_sem     TEXT ,\n",
    "#        DOB           TEXT,\n",
    "#        category      TEXT,\n",
    "#        hostler       TEXT,\n",
    "#        Addmission_mod      TEXT,\n",
    "#        contact TEXT  ,\n",
    "#        contact_parent TEXT    ,\n",
    "#        address     TEXT,\n",
    "#        email       TEXT,\n",
    "#        high_school  TEXT,\n",
    "#        intermediate   TEXT,\n",
    "#        B_tech TEXT,\n",
    "#        sem_1_marks   TEXT,\n",
    "#        sem_1_attendance   TEXT,\n",
    "#        sem_2_marks   TEXT,\n",
    "#        sem_2_attendance   TEXT,\n",
    "#        sem_3_marks   TEXT,\n",
    "#        sem_3_attendance   TEXT,\n",
    "#        sem_4_marks   TEXT,\n",
    "#        sem_4_attendance   TEXT,\n",
    "#        sem_5_marks   TEXT,\n",
    "#        sem_5_attendance   TEXT,\n",
    "#        sem_6_marks   TEXT,\n",
    "#        sem_6_attendance   TEXT,\n",
    "#        sem_7_marks   TEXT,\n",
    "#        sem_7_attendance   TEXT,\n",
    "#        sem_8_marks   TEXT,\n",
    "#        sem_8_attendance   TEXT,\n",
    "#        ques_S_drop_1  TEXT,\n",
    "#        ques_S_drop_2  TEXT,\n",
    "#        ques_S_drop_3  TEXT,\n",
    "#        ques_S_drop_4  TEXT,\n",
    "#        ques_S_drop_5  TEXT,\n",
    "#        ques_S_drop_6  TEXT,\n",
    "#        ques_S_drop_7  TEXT,\n",
    "#        ques_S_drop_8  TEXT,\n",
    "#        ques_S_drop_9  TEXT,\n",
    "#        ques_S_drop_10  TEXT,\n",
    "#        ques_S_per1  TEXT,\n",
    "#        ques_S_per2  TEXT,\n",
    "#        ques_S_per3  TEXT,\n",
    "#        ques_S_per4  TEXT,\n",
    "#        ques_S_per5  TEXT,\n",
    "#        ques_S_per6  TEXT,\n",
    "#        ques_S_per7  TEXT,\n",
    "#        ques_S_per8  TEXT,\n",
    "#        ques_S_per9  TEXT,\n",
    "#        ques_S_per10  TEXT,\n",
    "#        ques_T_feed_1  TEXT,\n",
    "#        ques_T_feed_2  TEXT,\n",
    "#        ques_T_feed_3  TEXT,\n",
    "#        ques_T_feed_4  TEXT,\n",
    "#        ques_T_feed_5  TEXT,\n",
    "#        ques_T_feed_6  TEXT,\n",
    "#        ques_T_feed_7  TEXT,\n",
    "#        ques_T_feed_8  TEXT);''')\n",
    "\n",
    "# # conn.close"
   ]
  },
  {
   "cell_type": "code",
   "execution_count": 32,
   "metadata": {},
   "outputs": [
    {
     "data": {
      "text/plain": [
       "<function TextIOWrapper.close>"
      ]
     },
     "execution_count": 32,
     "metadata": {},
     "output_type": "execute_result"
    }
   ],
   "source": [
    "# import csv\n",
    "# cur= conn.cursor()\n",
    "\n",
    "# ifile=open('predictive_student_ananalysis/clean_data/clean_3.csv','r',newline='')\n",
    "# reader=csv.reader(ifile)\n",
    "# reader.__next__()\n",
    "# for row in reader:\n",
    "#     query_string = 'INSERT INTO students VALUES (%s);' % row\n",
    "#     command_string = query_string.replace('[', '').replace(']', '')\n",
    "#     cur.execute(command_string)\n",
    "# conn.commit()\n",
    "# ifile.close"
   ]
  },
  {
   "cell_type": "code",
   "execution_count": 4,
   "metadata": {},
   "outputs": [
    {
     "data": {
      "text/plain": [
       "<function TextIOWrapper.close>"
      ]
     },
     "execution_count": 4,
     "metadata": {},
     "output_type": "execute_result"
    }
   ],
   "source": [
    "import csv\n",
    "cur = conn.cursor()\n",
    "cur.execute(\"SELECT *  from students\")\n",
    "rows = cur.fetchall()\n",
    "ofile=open('fetched_data/fetched_student_data.csv','w',newline='')\n",
    "writer=csv.writer(ofile)\n",
    "writer.writerow(['Name','Father','roll_no','student_no','branch','year','section','current_sem','DOB','category','hostler','Addmission_mod','contact','parent_contact','address','email','high_school','intermediate','B_tech','sem_1_marks','sem_1_attendance','sem_2_marks','sem_2_attendance','sem_3_marks','sem_3_attendance','sem_4_marks','sem_4_attendance','sem_5_marks','sem_5_attendance','sem_6_marks','sem_6_attendance','sem_7_marks','sem_7_attendance','sem_8_marks','sem_8_attendance','ques_S_drop_1','ques_S_drop_2','ques_S_drop_3','ques_S_drop_4','ques_S_drop_5','ques_S_drop_6','ques_S_drop_7','ques_S_drop_8','ques_S_drop_9','ques_S_drop_10','ques_S_per1','ques_S_per2','ques_S_per3','ques_S_per4','ques_S_per5','ques_S_per6','ques_S_per7','ques_S_per8','ques_S_per9','ques_S_per10','ques_T_feed_1','ques_T_feed_2','ques_T_feed_3','ques_T_feed_4','ques_T_feed_5','ques_T_feed_6','ques_T_feed_7','ques_T_feed_8'])\n",
    "for row in rows:\n",
    "    writer.writerow(list(row))\n",
    "\n",
    "ofile.close"
   ]
  },
  {
   "cell_type": "code",
   "execution_count": 5,
   "metadata": {},
   "outputs": [
    {
     "data": {
      "text/plain": [
       "<function TextIOWrapper.close>"
      ]
     },
     "execution_count": 5,
     "metadata": {},
     "output_type": "execute_result"
    }
   ],
   "source": [
    "import csv\n",
    "cur= conn.cursor()\n",
    "try:\n",
    "    cur.execute(\"DROP TABLE prediction;\")\n",
    "    conn.commit()\n",
    "except:\n",
    "    pass\n",
    "\n",
    "cur.execute('''CREATE TABLE prediction(\n",
    "name TEXT,\n",
    "student_no TEXT,\n",
    "branch TEXT,\n",
    "predicted_marks TEXT,\n",
    "predicted_drop TEXT,\n",
    "personality TEXT,\n",
    "recommended_course_1 TEXT,\n",
    "recommended_course_2 TEXT,\n",
    "recommended_course_3 TEXT,\n",
    "recommended_course_4 TEXT,\n",
    "recommended_course_5 TEXT\n",
    ")''')\n",
    "conn.commit()\n",
    "\n",
    "ifile=open('fetched_data/fetched_prediction.csv','r')\n",
    "reader=csv.reader(ifile)\n",
    "reader.__next__()\n",
    "for row in reader:\n",
    "    query_string = 'INSERT INTO prediction VALUES (%s);' % row\n",
    "    command_string = query_string.replace('[', '').replace(']', '')\n",
    "    cur.execute(command_string)\n",
    "conn.commit()\n",
    "ifile.close\n"
   ]
  },
  {
   "cell_type": "code",
   "execution_count": 35,
   "metadata": {},
   "outputs": [
    {
     "data": {
      "text/plain": [
       "<function connection.close>"
      ]
     },
     "execution_count": 35,
     "metadata": {},
     "output_type": "execute_result"
    }
   ],
   "source": [
    "conn.close"
   ]
  },
  {
   "cell_type": "code",
   "execution_count": null,
   "metadata": {},
   "outputs": [],
   "source": []
  }
 ],
 "metadata": {
  "kernelspec": {
   "display_name": "Python 3",
   "language": "python",
   "name": "python3"
  },
  "language_info": {
   "codemirror_mode": {
    "name": "ipython",
    "version": 3
   },
   "file_extension": ".py",
   "mimetype": "text/x-python",
   "name": "python",
   "nbconvert_exporter": "python",
   "pygments_lexer": "ipython3",
   "version": "3.6.4"
  }
 },
 "nbformat": 4,
 "nbformat_minor": 2
}
