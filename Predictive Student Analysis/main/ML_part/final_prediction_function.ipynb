{
 "cells": [
  {
   "cell_type": "code",
   "execution_count": 2,
   "metadata": {},
   "outputs": [],
   "source": [
    "def sih_prediction(file_location):\n",
    "    import pandas as pd\n",
    "    import pickle\n",
    "    ifile=pd.read_csv(file_location)\n",
    "    # dropout_prediction\n",
    "    student=ifile.loc[:,['branch','category', 'hostler', 'Addmission_mod',\n",
    "           'B_tech', 'sem_1_marks', 'sem_1_attendance', 'sem_2_marks',\n",
    "           'sem_2_attendance', 'sem_3_attendance', 'ques_S_drop_1', 'ques_S_drop_2', 'ques_S_drop_3',\n",
    "           'ques_S_drop_4', 'ques_S_drop_5', 'ques_S_drop_6', 'ques_S_drop_7',\n",
    "           'ques_S_drop_8', 'ques_S_drop_9', 'ques_S_drop_10', 'ques_S_per1',\n",
    "           'ques_S_per2', 'ques_S_per3', 'ques_S_per4', 'ques_S_per5',\n",
    "           'ques_S_per6', 'ques_S_per7', 'ques_S_per8', 'ques_S_per9',\n",
    "           'ques_S_per10', 'ques_T_feed_1', 'ques_T_feed_2', 'ques_T_feed_3',\n",
    "           'ques_T_feed_4', 'ques_T_feed_5', 'ques_T_feed_6', 'ques_T_feed_7',\n",
    "           'ques_T_feed_8']]\n",
    "    student=pd.get_dummies(student,columns=['branch','category', 'hostler', 'Addmission_mod','ques_S_drop_1', 'ques_S_drop_2', 'ques_S_drop_3',\n",
    "           'ques_S_drop_4', 'ques_S_drop_5', 'ques_S_drop_6', 'ques_S_drop_7',\n",
    "           'ques_S_drop_8', 'ques_S_drop_9', 'ques_S_drop_10', 'ques_S_per1',\n",
    "           'ques_S_per2', 'ques_S_per3', 'ques_S_per4', 'ques_S_per5',\n",
    "           'ques_S_per6', 'ques_S_per7', 'ques_S_per8', 'ques_S_per9',\n",
    "           'ques_S_per10', 'ques_T_feed_1', 'ques_T_feed_2', 'ques_T_feed_3',\n",
    "           'ques_T_feed_4', 'ques_T_feed_5', 'ques_T_feed_6', 'ques_T_feed_7',\n",
    "           'ques_T_feed_8'],drop_first=True)\n",
    "    rf= pickle.load(open('dropout_prediction_model_random_forest', 'rb'))\n",
    "    y_predict_drop=rf.predict(student)\n",
    "\n",
    "    # grade prediction\n",
    "    student=ifile.loc[:,['high_school','intermediate','branch','category', 'hostler', 'Addmission_mod',\n",
    "           'B_tech', 'sem_1_marks', 'sem_1_attendance', 'sem_2_marks',\n",
    "           'sem_2_attendance', 'sem_3_attendance', 'ques_S_drop_1', 'ques_S_drop_2', 'ques_S_drop_3',\n",
    "           'ques_S_drop_4', 'ques_S_drop_5', 'ques_S_drop_6', 'ques_S_drop_7',\n",
    "           'ques_S_drop_8', 'ques_S_drop_9', 'ques_S_drop_10', 'ques_T_feed_1', 'ques_T_feed_2', 'ques_T_feed_3',\n",
    "           'ques_T_feed_4', 'ques_T_feed_5', 'ques_T_feed_6', 'ques_T_feed_7',\n",
    "           'ques_T_feed_8']]\n",
    "    student=pd.get_dummies(student,columns=['branch','category', 'hostler', 'Addmission_mod','ques_S_drop_1', 'ques_S_drop_2', 'ques_S_drop_3',\n",
    "           'ques_S_drop_4', 'ques_S_drop_5', 'ques_S_drop_6', 'ques_S_drop_7',\n",
    "           'ques_S_drop_8', 'ques_S_drop_9', 'ques_S_drop_10','ques_T_feed_1', 'ques_T_feed_2', 'ques_T_feed_3',\n",
    "           'ques_T_feed_4', 'ques_T_feed_5', 'ques_T_feed_6', 'ques_T_feed_7',\n",
    "           'ques_T_feed_8'],drop_first=True)\n",
    "    student.drop('category_ST',axis=1,inplace=True)\n",
    "    \n",
    "    # employing linear regression problem\n",
    "    liner= pickle.load(open('grade_prediction_model', 'rb'))\n",
    "    y_predict_marks=liner.predict(student)\n",
    "\n",
    "    # course recommender\n",
    "    import nbimporter\n",
    "    from courses_recommender import recommender_function\n",
    "    courses=recommender_function('alumini_data.csv',file_location)#uses alumini data for course recommendation\n",
    "\n",
    "    #personality\n",
    "    from personality import personality_predict_func\n",
    "    personality=personality_predict_func(file_location)\n",
    "\n",
    "    # output\n",
    "    output=pd.DataFrame()\n",
    "    output['name']=courses.name\n",
    "    output['student_no']=courses.student_no\n",
    "    output['branch']=courses.branch\n",
    "    output['predicted_marks']=y_predict_marks\n",
    "    output['predicted_drop']=y_predict_drop\n",
    "    output['personality']=personality.personality_type\n",
    "    output['recommended_course_1']=courses.recommed_course_1\n",
    "    output['recommended_course_2']=courses.recommed_course_2\n",
    "    output['recommended_course_3']=courses.recommed_course_3\n",
    "    output['recommended_course_4']=courses.recommed_course_4\n",
    "    output['recommended_course_5']=courses.recommed_course_5\n",
    "    \n",
    "    # writing file to outputfile\n",
    "    output.to_csv('fetched_data/fetched_prediction.csv', index=False)"
   ]
  },
  {
   "cell_type": "code",
   "execution_count": 3,
   "metadata": {},
   "outputs": [
    {
     "name": "stdout",
     "output_type": "stream",
     "text": [
      "Importing Jupyter notebook from courses_recommender.ipynb\n",
      "Importing Jupyter notebook from personality.ipynb\n"
     ]
    }
   ],
   "source": []
  },
  {
   "cell_type": "code",
   "execution_count": null,
   "metadata": {},
   "outputs": [],
   "source": []
  }
 ],
 "metadata": {
  "kernelspec": {
   "display_name": "Python 3",
   "language": "python",
   "name": "python3"
  },
  "language_info": {
   "codemirror_mode": {
    "name": "ipython",
    "version": 3
   },
   "file_extension": ".py",
   "mimetype": "text/x-python",
   "name": "python",
   "nbconvert_exporter": "python",
   "pygments_lexer": "ipython3",
   "version": "3.6.4"
  }
 },
 "nbformat": 4,
 "nbformat_minor": 2
}
