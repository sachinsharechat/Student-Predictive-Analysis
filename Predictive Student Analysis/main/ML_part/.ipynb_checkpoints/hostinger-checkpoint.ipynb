{
 "cells": [
  {
   "cell_type": "code",
   "execution_count": 1,
   "metadata": {},
   "outputs": [
    {
     "data": {
      "text/plain": [
       "<function Connection.close>"
      ]
     },
     "execution_count": 1,
     "metadata": {},
     "output_type": "execute_result"
    }
   ],
   "source": [
    "# Reading from mysql remote server\n",
    "import MySQLdb\n",
    "import csv\n",
    "db =MySQLdb.connect(host='sql164.main-hosting.eu', user='u119526268_root', password='qwerty1234', database='u119526268_db')\n",
    "cur = db.cursor()\n",
    "try:\n",
    "    cur.execute(\"SELECT *  from students\") # data from students table\n",
    "    rows = cur.fetchall()\n",
    "except:\n",
    "    print('error')\n",
    "# writing table rows in csv file    \n",
    "ofile=open('fetched_data/fetched_student_data.csv','w',newline='')\n",
    "writer=csv.writer(ofile)\n",
    "writer.writerow(['Name','Father','roll_no','student_no','branch','year','section','current_sem','DOB','category','hostler','Addmission_mod','contact','parent_contact','address','email','high_school','intermediate','B_tech','sem_1_marks','sem_1_attendance','sem_2_marks','sem_2_attendance','sem_3_marks','sem_3_attendance','sem_4_marks','sem_4_attendance','sem_5_marks','sem_5_attendance','sem_6_marks','sem_6_attendance','sem_7_marks','sem_7_attendance','sem_8_marks','sem_8_attendance','ques_S_drop_1','ques_S_drop_2','ques_S_drop_3','ques_S_drop_4','ques_S_drop_5','ques_S_drop_6','ques_S_drop_7','ques_S_drop_8','ques_S_drop_9','ques_S_drop_10','ques_S_per1','ques_S_per2','ques_S_per3','ques_S_per4','ques_S_per5','ques_S_per6','ques_S_per7','ques_S_per8','ques_S_per9','ques_S_per10','ques_T_feed_1','ques_T_feed_2','ques_T_feed_3','ques_T_feed_4','ques_T_feed_5','ques_T_feed_6','ques_T_feed_7','ques_T_feed_8'])\n",
    "for row in rows:\n",
    "    writer.writerow(list(row)[1:64])\n",
    "\n",
    "ofile.close\n",
    "db.close\n"
   ]
  },
  {
   "cell_type": "code",
   "execution_count": 3,
   "metadata": {},
   "outputs": [
    {
     "name": "stdout",
     "output_type": "stream",
     "text": [
      "Importing Jupyter notebook from final_prediction_function.ipynb\n",
      "Importing Jupyter notebook from courses_recommender.ipynb\n",
      "Importing Jupyter notebook from personality.ipynb\n"
     ]
    }
   ],
   "source": [
    "import nbimporter\n",
    "from final_prediction_function import sih_prediction\n",
    "# main_ prediction function\n",
    "# creates file in folder\n",
    "sih_prediction('fetched_data/fetched_student_data.csv')"
   ]
  },
  {
   "cell_type": "code",
   "execution_count": 24,
   "metadata": {},
   "outputs": [
    {
     "data": {
      "text/plain": [
       "<function Connection.close>"
      ]
     },
     "execution_count": 24,
     "metadata": {},
     "output_type": "execute_result"
    }
   ],
   "source": [
    "#INSERTING THE PREDICTION\n",
    "import csv\n",
    "db =MySQLdb.connect(host='sql164.main-hosting.eu', user='u119526268_root', password='qwerty1234', database='u119526268_db')\n",
    "cur= db.cursor()\n",
    "try:\n",
    "#    for new predictions table in database \n",
    "    cur.execute(\"DROP TABLE predictions;\")\n",
    "    db.commit()\n",
    "except:\n",
    "    pass\n",
    "\n",
    "cur.execute('''CREATE TABLE predictions(id INT PRIMARY KEY,name TEXT, student_no TEXT, branch TEXT, predicted_marks TEXT, predicted_drop TEXT,\n",
    "personality TEXT, recommended_course_1 TEXT, recommended_course_2 TEXT, recommended_course_3 TEXT, recommended_course_4 TEXT, recommended_course_5 TEXT\n",
    ")''')\n",
    "db.commit()\n",
    "\n",
    "#inserting predicted data in database\n",
    "ifile=open('fetched_data/fetched_prediction.csv','r')\n",
    "reader=csv.reader(ifile)\n",
    "reader.__next__()\n",
    "i=1\n",
    "for row in reader:\n",
    "    row.insert(0,i)\n",
    "    query_string = 'INSERT INTO predictions VALUES (%s);' % row\n",
    "    command_string = query_string.replace('[', '').replace(']', '')\n",
    "    cur.execute(command_string)\n",
    "    i+=1\n",
    "db.commit()\n",
    "ifile.close\n",
    "db.close\n"
   ]
  },
  {
   "cell_type": "code",
   "execution_count": 25,
   "metadata": {},
   "outputs": [
    {
     "data": {
      "text/plain": [
       "<function Connection.close>"
      ]
     },
     "execution_count": 25,
     "metadata": {},
     "output_type": "execute_result"
    }
   ],
   "source": [
    "# inserting alumini_contact table in data base\n",
    "import csv\n",
    "db =MySQLdb.connect(host='sql164.main-hosting.eu', user='u119526268_root', password='qwerty1234', database='u119526268_db')\n",
    "cur= db.cursor()\n",
    "try:\n",
    "    cur.execute(\"DROP TABLE alumini_contact;\")\n",
    "    db.commit()\n",
    "except:\n",
    "    pass\n",
    "\n",
    "cur.execute('''CREATE TABLE alumini_contact(\n",
    "id INT PRIMARY KEY,\n",
    "student_no TEXT,\n",
    "al_name_1 TEXT,\n",
    "al_contact_1 TEXT,\n",
    "al_email_1 TEXT,\n",
    "al_name_2 TEXT,\n",
    "al_contact_2 TEXT,\n",
    "al_email_2 TEXT,\n",
    "al_name_3 TEXT,\n",
    "al_contact_3 TEXT,\n",
    "al_email_3 TEXT,\n",
    "al_name_4 TEXT,\n",
    "al_contact_4 TEXT,\n",
    "al_email_4 TEXT,\n",
    "al_name_5 TEXT,\n",
    "al_contact_5 TEXT,\n",
    "al_email_5 TEXT,\n",
    "created_at TIMESTAMP,\n",
    "updated_at TIMESTAMP\n",
    "\n",
    ")''')\n",
    "db.commit()\n",
    "\n",
    "ifile=open('alumini_contact_file.csv','r')  #file containing alumini contact\n",
    "reader=csv.reader(ifile)\n",
    "reader.__next__()\n",
    "i=1\n",
    "for row in reader:\n",
    "    row.insert(0,i)\n",
    "    row.append('2018-03-28 08:32:48')\n",
    "    row.append('2018-03-28 08:32:48')\n",
    "    query_string = 'INSERT INTO alumini_contact VALUES (%s);' % row\n",
    "    command_string = query_string.replace('[', '').replace(']', '')\n",
    "    cur.execute(command_string)\n",
    "    i+=1\n",
    "db.commit()\n",
    "ifile.close\n",
    "db.close"
   ]
  },
  {
   "cell_type": "code",
   "execution_count": 12,
   "metadata": {},
   "outputs": [],
   "source": []
  },
  {
   "cell_type": "code",
   "execution_count": 16,
   "metadata": {},
   "outputs": [],
   "source": []
  },
  {
   "cell_type": "code",
   "execution_count": null,
   "metadata": {},
   "outputs": [],
   "source": []
  }
 ],
 "metadata": {
  "kernelspec": {
   "display_name": "Python 3",
   "language": "python",
   "name": "python3"
  },
  "language_info": {
   "codemirror_mode": {
    "name": "ipython",
    "version": 3
   },
   "file_extension": ".py",
   "mimetype": "text/x-python",
   "name": "python",
   "nbconvert_exporter": "python",
   "pygments_lexer": "ipython3",
   "version": "3.6.4"
  }
 },
 "nbformat": 4,
 "nbformat_minor": 2
}
