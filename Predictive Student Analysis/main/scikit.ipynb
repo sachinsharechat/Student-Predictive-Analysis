{
 "cells": [
  {
   "cell_type": "code",
   "execution_count": 1,
   "metadata": {},
   "outputs": [],
   "source": [
    "import pandas as pd\n"
   ]
  },
  {
   "cell_type": "code",
   "execution_count": 118,
   "metadata": {},
   "outputs": [],
   "source": [
    "fields=['Name','category','hostler','high_school','intermediate','B_tech','sem_1_marks', 'sem_1_attendance', 'sem_2_marks',\n",
    "       'sem_2_attendance', 'sem_3_marks', 'sem_3_attendance', 'sem_4_marks',\n",
    "       'sem_4_attendance', 'sem_5_marks', 'sem_5_attendance', 'sem_6_marks',\n",
    "       'sem_6_attendance', 'sem_7_marks', 'sem_7_attendance']\n",
    "new=pd.read_csv('student_data_cs_4.csv',skipinitialspace=True, usecols=fields)"
   ]
  },
  {
   "cell_type": "code",
   "execution_count": 119,
   "metadata": {},
   "outputs": [
    {
     "data": {
      "text/plain": [
       "Index(['Name', 'category', 'hostler', 'high_school', 'intermediate', 'B_tech',\n",
       "       'sem_1_marks', 'sem_1_attendance', 'sem_2_marks', 'sem_2_attendance',\n",
       "       'sem_3_marks', 'sem_3_attendance', 'sem_4_marks', 'sem_4_attendance',\n",
       "       'sem_5_marks', 'sem_5_attendance', 'sem_6_marks', 'sem_6_attendance',\n",
       "       'sem_7_marks', 'sem_7_attendance'],\n",
       "      dtype='object')"
      ]
     },
     "execution_count": 119,
     "metadata": {},
     "output_type": "execute_result"
    }
   ],
   "source": [
    "new.columns"
   ]
  },
  {
   "cell_type": "code",
   "execution_count": 120,
   "metadata": {},
   "outputs": [],
   "source": [
    "import numpy as np\n",
    "def myfunction(string):\n",
    "    try:\n",
    "        return float(string)\n",
    "    except:\n",
    "        return np.nan\n",
    "new.sem_6_marks=new.sem_6_marks.apply(myfunction)\n",
    "\n",
    "        "
   ]
  },
  {
   "cell_type": "code",
   "execution_count": 162,
   "metadata": {},
   "outputs": [],
   "source": [
    "new.dropna(subset = ['sem_6_marks'],inplace=True)\n",
    "X=np.array(new.sem_1_attendance)\n"
   ]
  },
  {
   "cell_type": "code",
   "execution_count": 189,
   "metadata": {},
   "outputs": [],
   "source": [
    "def myfunction(string):\n",
    "    if string=='GENERAL':\n",
    "        return 1\n",
    "    elif string=='OBC':\n",
    "        return 2\n",
    "    elif string=='YES':\n",
    "        return 1\n",
    "    elif string=='NO':\n",
    "        return 2\n",
    "    else:\n",
    "        return 3\n",
    "# new.hostler=new.hostler.apply(myfunction)\n",
    "y=new.sem_1_marks.as_matrix(columns=None)"
   ]
  },
  {
   "cell_type": "code",
   "execution_count": 164,
   "metadata": {},
   "outputs": [],
   "source": [
    "from sklearn.neighbors import KNeighborsClassifier"
   ]
  },
  {
   "cell_type": "code",
   "execution_count": 171,
   "metadata": {},
   "outputs": [],
   "source": [
    "knn=KNeighborsClassifier(n_neighbors=2)"
   ]
  },
  {
   "cell_type": "code",
   "execution_count": null,
   "metadata": {},
   "outputs": [],
   "source": []
  },
  {
   "cell_type": "code",
   "execution_count": 190,
   "metadata": {},
   "outputs": [],
   "source": [
    "X=X.reshape(-1,1)"
   ]
  },
  {
   "cell_type": "code",
   "execution_count": 191,
   "metadata": {},
   "outputs": [],
   "source": [
    "X.shape\n",
    "y=y.reshape(-1,1)"
   ]
  },
  {
   "cell_type": "code",
   "execution_count": 174,
   "metadata": {},
   "outputs": [
    {
     "name": "stderr",
     "output_type": "stream",
     "text": [
      "C:\\Users\\acer\\Anaconda3\\lib\\site-packages\\ipykernel_launcher.py:1: DataConversionWarning: A column-vector y was passed when a 1d array was expected. Please change the shape of y to (n_samples, ), for example using ravel().\n",
      "  \"\"\"Entry point for launching an IPython kernel.\n"
     ]
    },
    {
     "data": {
      "text/plain": [
       "KNeighborsClassifier(algorithm='auto', leaf_size=30, metric='minkowski',\n",
       "           metric_params=None, n_jobs=1, n_neighbors=2, p=2,\n",
       "           weights='uniform')"
      ]
     },
     "execution_count": 174,
     "metadata": {},
     "output_type": "execute_result"
    }
   ],
   "source": [
    "knn.fit(X,y)"
   ]
  },
  {
   "cell_type": "code",
   "execution_count": 180,
   "metadata": {},
   "outputs": [
    {
     "data": {
      "text/plain": [
       "array(['GENERAL'], dtype=object)"
      ]
     },
     "execution_count": 180,
     "metadata": {},
     "output_type": "execute_result"
    }
   ],
   "source": [
    "knn.predict([[]])"
   ]
  },
  {
   "cell_type": "code",
   "execution_count": 181,
   "metadata": {},
   "outputs": [],
   "source": [
    "from sklearn.linear_model import LogisticRegression\n",
    "logreg=LogisticRegression()"
   ]
  },
  {
   "cell_type": "code",
   "execution_count": 182,
   "metadata": {},
   "outputs": [
    {
     "name": "stderr",
     "output_type": "stream",
     "text": [
      "C:\\Users\\acer\\Anaconda3\\lib\\site-packages\\sklearn\\utils\\validation.py:578: DataConversionWarning: A column-vector y was passed when a 1d array was expected. Please change the shape of y to (n_samples, ), for example using ravel().\n",
      "  y = column_or_1d(y, warn=True)\n"
     ]
    },
    {
     "data": {
      "text/plain": [
       "LogisticRegression(C=1.0, class_weight=None, dual=False, fit_intercept=True,\n",
       "          intercept_scaling=1, max_iter=100, multi_class='ovr', n_jobs=1,\n",
       "          penalty='l2', random_state=None, solver='liblinear', tol=0.0001,\n",
       "          verbose=0, warm_start=False)"
      ]
     },
     "execution_count": 182,
     "metadata": {},
     "output_type": "execute_result"
    }
   ],
   "source": [
    "logreg.fit(X,y)"
   ]
  },
  {
   "cell_type": "code",
   "execution_count": 187,
   "metadata": {},
   "outputs": [
    {
     "data": {
      "text/plain": [
       "array(['GENERAL'], dtype=object)"
      ]
     },
     "execution_count": 187,
     "metadata": {},
     "output_type": "execute_result"
    }
   ],
   "source": [
    "logreg.predict([[40]])"
   ]
  },
  {
   "cell_type": "code",
   "execution_count": 275,
   "metadata": {},
   "outputs": [],
   "source": [
    "from sklearn.linear_model import LinearRegression\n",
    "liner=LinearRegression()"
   ]
  },
  {
   "cell_type": "code",
   "execution_count": null,
   "metadata": {},
   "outputs": [],
   "source": []
  },
  {
   "cell_type": "code",
   "execution_count": null,
   "metadata": {},
   "outputs": [],
   "source": []
  },
  {
   "cell_type": "code",
   "execution_count": 276,
   "metadata": {},
   "outputs": [
    {
     "data": {
      "text/plain": [
       "LinearRegression(copy_X=True, fit_intercept=True, n_jobs=1, normalize=False)"
      ]
     },
     "execution_count": 276,
     "metadata": {},
     "output_type": "execute_result"
    }
   ],
   "source": [
    "new=new.dropna(subset=['sem_5_marks'])\n",
    "X=np.array(new.sem_5_marks)\n",
    "X=X.reshape(-1,1)\n",
    "X=np.append(X,np.array(new.sem_3_marks).reshape(-1,1),axis=1)\n",
    "y=new.sem_6_marks.as_matrix(columns=None).reshape(-1,1)\n",
    "\n",
    "liner.fit(X,y)"
   ]
  },
  {
   "cell_type": "code",
   "execution_count": 282,
   "metadata": {},
   "outputs": [
    {
     "data": {
      "text/plain": [
       "array([[67.9 , 75.2 ],\n",
       "       [61.11, 70.7 ],\n",
       "       [76.6 , 86.9 ],\n",
       "       [69.4 , 79.7 ],\n",
       "       [78.1 , 83.2 ],\n",
       "       [78.7 , 81.8 ],\n",
       "       [72.6 , 63.1 ],\n",
       "       [74.3 , 78.2 ],\n",
       "       [62.9 , 67.8 ],\n",
       "       [68.2 , 68.7 ],\n",
       "       [71.4 , 65.4 ],\n",
       "       [75.7 , 74.7 ],\n",
       "       [54.3 , 59.5 ],\n",
       "       [85.1 , 79.6 ],\n",
       "       [79.  , 88.  ],\n",
       "       [84.5 , 91.  ],\n",
       "       [69.7 , 73.41],\n",
       "       [75.8 , 74.9 ],\n",
       "       [64.2 , 68.2 ],\n",
       "       [65.1 , 71.4 ],\n",
       "       [61.1 , 67.  ],\n",
       "       [72.5 , 73.5 ],\n",
       "       [67.7 , 68.6 ],\n",
       "       [76.1 , 72.5 ],\n",
       "       [64.  , 71.2 ],\n",
       "       [64.7 , 79.9 ],\n",
       "       [67.6 , 70.9 ],\n",
       "       [75.5 , 69.1 ],\n",
       "       [64.6 , 71.7 ],\n",
       "       [64.8 , 65.8 ],\n",
       "       [65.5 , 62.2 ],\n",
       "       [81.9 , 82.4 ],\n",
       "       [62.7 , 67.5 ],\n",
       "       [74.5 , 69.5 ],\n",
       "       [78.8 , 82.2 ],\n",
       "       [59.6 , 71.1 ],\n",
       "       [73.4 , 82.9 ],\n",
       "       [57.6 , 62.3 ],\n",
       "       [82.6 , 92.  ],\n",
       "       [71.59, 78.18],\n",
       "       [71.8 , 70.3 ],\n",
       "       [70.5 , 66.6 ],\n",
       "       [63.1 , 62.1 ],\n",
       "       [59.4 , 68.2 ],\n",
       "       [76.7 , 66.4 ],\n",
       "       [70.1 , 68.8 ],\n",
       "       [66.6 , 69.4 ],\n",
       "       [67.3 , 64.4 ],\n",
       "       [81.5 , 69.3 ],\n",
       "       [77.3 , 79.5 ],\n",
       "       [66.  , 70.9 ],\n",
       "       [56.4 , 72.2 ],\n",
       "       [60.5 , 60.6 ],\n",
       "       [84.3 , 84.1 ],\n",
       "       [69.9 , 73.5 ],\n",
       "       [75.9 , 74.9 ],\n",
       "       [77.6 , 83.6 ],\n",
       "       [78.6 , 84.1 ],\n",
       "       [70.3 , 69.9 ],\n",
       "       [73.5 , 66.8 ],\n",
       "       [51.5 , 54.5 ],\n",
       "       [65.2 , 63.1 ],\n",
       "       [77.  , 75.7 ],\n",
       "       [82.  , 78.3 ],\n",
       "       [70.2 , 59.4 ],\n",
       "       [63.1 , 67.5 ],\n",
       "       [68.3 , 69.7 ],\n",
       "       [77.2 , 80.1 ],\n",
       "       [72.5 , 65.7 ],\n",
       "       [71.6 , 65.9 ],\n",
       "       [57.2 , 48.3 ],\n",
       "       [58.9 , 62.  ],\n",
       "       [62.6 , 62.  ],\n",
       "       [73.8 , 80.8 ],\n",
       "       [71.6 , 69.3 ],\n",
       "       [75.8 , 68.6 ],\n",
       "       [71.8 , 79.  ],\n",
       "       [73.9 , 78.6 ],\n",
       "       [66.8 , 61.6 ],\n",
       "       [57.8 , 57.5 ],\n",
       "       [64.8 , 62.  ],\n",
       "       [84.7 , 81.4 ],\n",
       "       [65.  , 62.7 ],\n",
       "       [77.4 , 73.6 ],\n",
       "       [64.7 , 62.7 ],\n",
       "       [65.1 , 65.5 ],\n",
       "       [83.6 , 82.  ],\n",
       "       [76.1 , 78.5 ],\n",
       "       [71.4 , 72.1 ],\n",
       "       [73.9 , 71.3 ],\n",
       "       [88.7 , 89.1 ],\n",
       "       [75.2 , 66.  ],\n",
       "       [69.6 , 79.3 ],\n",
       "       [67.7 , 66.3 ],\n",
       "       [82.1 , 77.9 ],\n",
       "       [90.9 , 90.1 ],\n",
       "       [68.3 , 69.3 ],\n",
       "       [71.9 , 75.8 ],\n",
       "       [73.7 , 65.4 ],\n",
       "       [60.5 , 60.5 ],\n",
       "       [76.4 , 77.1 ],\n",
       "       [62.1 , 64.2 ],\n",
       "       [74.4 , 76.8 ],\n",
       "       [78.2 , 86.1 ],\n",
       "       [65.1 , 69.  ],\n",
       "       [68.1 , 72.9 ],\n",
       "       [81.4 , 83.7 ],\n",
       "       [57.1 , 58.9 ],\n",
       "       [81.1 , 84.7 ],\n",
       "       [63.6 , 67.2 ],\n",
       "       [60.6 , 71.5 ],\n",
       "       [63.7 , 69.5 ],\n",
       "       [86.8 , 85.6 ],\n",
       "       [73.  , 71.  ],\n",
       "       [80.  , 72.3 ],\n",
       "       [68.9 , 61.8 ],\n",
       "       [66.1 , 74.3 ],\n",
       "       [67.2 , 75.6 ],\n",
       "       [75.5 , 72.6 ],\n",
       "       [66.  , 69.3 ],\n",
       "       [71.6 , 72.2 ],\n",
       "       [68.6 , 80.2 ],\n",
       "       [74.7 , 77.1 ],\n",
       "       [58.6 , 51.5 ],\n",
       "       [77.8 , 77.4 ],\n",
       "       [70.9 , 74.7 ],\n",
       "       [61.5 , 58.6 ],\n",
       "       [64.7 , 74.4 ],\n",
       "       [70.7 , 69.8 ],\n",
       "       [60.4 , 58.3 ],\n",
       "       [77.3 , 81.3 ],\n",
       "       [71.3 , 68.5 ],\n",
       "       [68.4 , 69.2 ],\n",
       "       [75.4 , 74.4 ],\n",
       "       [86.1 , 81.6 ]])"
      ]
     },
     "execution_count": 282,
     "metadata": {},
     "output_type": "execute_result"
    }
   ],
   "source": [
    "from sklearn import metrics\n",
    "print(metrics.accuracy_score(y,liner.predict(X)))\n"
   ]
  },
  {
   "cell_type": "code",
   "execution_count": 249,
   "metadata": {},
   "outputs": [
    {
     "data": {
      "image/png": "[encoded data removed]",
      "text/plain": [
       "<matplotlib.figure.Figure at 0x18b618c85f8>"
      ]
     },
     "metadata": {},
     "output_type": "display_data"
    }
   ],
   "source": [
    "from matplotlib import pyplot as plt\n",
    "%matplotlib inline\n",
    "plt.scatter(X[:,1], y,color='g')\n",
    "plt.plot(X[:,1], liner.predict(X),color='k')\n",
    "\n",
    "plt.show()"
   ]
  },
  {
   "cell_type": "code",
   "execution_count": 283,
   "metadata": {},
   "outputs": [],
   "source": [
    "import seaborn as sns"
   ]
  },
  {
   "cell_type": "code",
   "execution_count": 290,
   "metadata": {},
   "outputs": [
    {
     "data": {
      "text/plain": [
       "<seaborn.axisgrid.PairGrid at 0x18b6198d0b8>"
      ]
     },
     "execution_count": 290,
     "metadata": {},
     "output_type": "execute_result"
    },
    {
     "data": {
      "image/png": "[encoded data removed]",
      "text/plain": [
       "<matplotlib.figure.Figure at 0x18b653c4080>"
      ]
     },
     "metadata": {},
     "output_type": "display_data"
    }
   ],
   "source": [
    "sns.pairplot(new,x_vars=['sem_1_attendance','sem_5_attendance','sem_1_marks'],y_vars=['sem_5_marks'],size=7,aspect=0.7,kind='reg')"
   ]
  },
  {
   "cell_type": "code",
   "execution_count": 387,
   "metadata": {},
   "outputs": [],
   "source": [
    "feature_columns=['sem_3_marks','sem_5_attendance','sem_1_marks','intermediate','sem_4_marks',]\n",
    "X=new[feature_columns]\n",
    "y=new['sem_5_marks']"
   ]
  },
  {
   "cell_type": "code",
   "execution_count": 388,
   "metadata": {},
   "outputs": [],
   "source": [
    "from sklearn.cross_validation import train_test_split\n",
    "X_train,X_test,y_train,y_test=train_test_split(X,y,random_state=1)"
   ]
  },
  {
   "cell_type": "code",
   "execution_count": 389,
   "metadata": {},
   "outputs": [
    {
     "data": {
      "text/plain": [
       "(34, 5)"
      ]
     },
     "execution_count": 389,
     "metadata": {},
     "output_type": "execute_result"
    }
   ],
   "source": [
    "X_train.shape\n",
    "X_test.shape"
   ]
  },
  {
   "cell_type": "code",
   "execution_count": 390,
   "metadata": {},
   "outputs": [
    {
     "data": {
      "text/plain": [
       "LinearRegression(copy_X=True, fit_intercept=True, n_jobs=1, normalize=False)"
      ]
     },
     "execution_count": 390,
     "metadata": {},
     "output_type": "execute_result"
    }
   ],
   "source": [
    "from sklearn.linear_model import LinearRegression\n",
    "liner=LinearRegression()\n",
    "liner.fit(X_train,y_train)"
   ]
  },
  {
   "cell_type": "code",
   "execution_count": 391,
   "metadata": {},
   "outputs": [
    {
     "data": {
      "text/plain": [
       "array([-0.08309911,  0.32335566,  0.35442454,  0.04170218,  0.51067082])"
      ]
     },
     "execution_count": 391,
     "metadata": {},
     "output_type": "execute_result"
    }
   ],
   "source": [
    "liner.intercept_\n",
    "liner.coef_"
   ]
  },
  {
   "cell_type": "code",
   "execution_count": 392,
   "metadata": {},
   "outputs": [],
   "source": [
    "y_predict=liner.predict(X_test)"
   ]
  },
  {
   "cell_type": "code",
   "execution_count": 393,
   "metadata": {},
   "outputs": [
    {
     "data": {
      "text/plain": [
       "4.204963292040751"
      ]
     },
     "execution_count": 393,
     "metadata": {},
     "output_type": "execute_result"
    }
   ],
   "source": [
    "np.sqrt(metrics.mean_squared_error(y_test,y_predict))"
   ]
  },
  {
   "cell_type": "code",
   "execution_count": null,
   "metadata": {},
   "outputs": [],
   "source": []
  }
 ],
 "metadata": {
  "kernelspec": {
   "display_name": "Python 3",
   "language": "python",
   "name": "python3"
  },
  "language_info": {
   "codemirror_mode": {
    "name": "ipython",
    "version": 3
   },
   "file_extension": ".py",
   "mimetype": "text/x-python",
   "name": "python",
   "nbconvert_exporter": "python",
   "pygments_lexer": "ipython3",
   "version": "3.6.4"
  }
 },
 "nbformat": 4,
 "nbformat_minor": 2
}
